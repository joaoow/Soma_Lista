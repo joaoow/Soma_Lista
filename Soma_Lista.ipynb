{
  "nbformat": 4,
  "nbformat_minor": 0,
  "metadata": {
    "colab": {
      "provenance": []
    },
    "kernelspec": {
      "name": "python3",
      "display_name": "Python 3"
    },
    "language_info": {
      "name": "python"
    }
  },
  "cells": [
    {
      "cell_type": "code",
      "execution_count": 1,
      "metadata": {
        "colab": {
          "base_uri": "https://localhost:8080/"
        },
        "id": "YeIssfNF53Mj",
        "outputId": "789df96e-a05a-498a-e3b3-52a61375bc74"
      },
      "outputs": [
        {
          "output_type": "stream",
          "name": "stdout",
          "text": [
            "r=['10', '20', '30']\n"
          ]
        }
      ],
      "source": [
        "a=['10']\n",
        "b=['20']\n",
        "c=['30']\n",
        "\n",
        "#Crio essa variavel r para somar as d+ acima a+b+c\n",
        "r = a+b+c\n",
        "\n",
        "#Imprimo o resultado de a,b,c\n",
        "print(f'r={r}')"
      ]
    }
  ]
}